{
  "nbformat": 4,
  "nbformat_minor": 0,
  "metadata": {
    "colab": {
      "provenance": [],
      "include_colab_link": true
    },
    "kernelspec": {
      "name": "python3",
      "display_name": "Python 3"
    },
    "language_info": {
      "name": "python"
    }
  },
  "cells": [
    {
      "cell_type": "markdown",
      "metadata": {
        "id": "view-in-github",
        "colab_type": "text"
      },
      "source": [
        "<a href=\"https://colab.research.google.com/github/reeennico/Processamento-Digital-de-Sinais/blob/main/Cap_4.ipynb\" target=\"_parent\"><img src=\"https://colab.research.google.com/assets/colab-badge.svg\" alt=\"Open In Colab\"/></a>"
      ]
    },
    {
      "cell_type": "markdown",
      "source": [
        "# Capítulo 4: A Transformada-Z\n",
        "\n",
        "## Resumo\n",
        "A transformada-Z é uma ferramenta fundamental na análise e projeto de sistemas discretos. Ela permite representar sinais e sistemas no domínio da frequência complexa, facilitando a resolução de equações de diferenças e a análise de estabilidade dos sistemas discretos.\n",
        "\n",
        "A transformada-Z é especialmente útil em sistemas de tempo discreto, pois fornece uma representação algébrica de operações no domínio do tempo. Em vez de trabalhar diretamente com convolução no tempo, por exemplo, é possível transformar o problema em uma simples multiplicação no domínio-Z. Esse conceito é essencial no processamento digital de sinais (DSP), controle digital e comunicações.\n",
        "\n",
        "---\n",
        "\n",
        "## 1. Definição da Transformada-Z\n",
        "A transformada-Z é uma extensão da Transformada de Fourier de Tempo Discreto (DTFT) e pode ser vista como sua generalização para números complexos. Ela é definida por:\n",
        "\n",
        "\\[\n",
        "X(z) = \\sum_{n=-\\infty}^{\\infty} x(n)z^{-n}\n",
        "\\]\n",
        "\n",
        "Aqui, \\( z \\) é um número complexo representado na forma polar como:\n",
        "\n",
        "\\[\n",
        "z = R e^{j\\theta}\n",
        "\\]\n",
        "\n",
        "A versão unilateral da transformada-Z é usada para sistemas causais, onde a soma é realizada apenas para \\( n \\geq 0 \\):\n",
        "\n",
        "\\[\n",
        "X(z) = \\sum_{n=0}^{\\infty} x(n)z^{-n}\n",
        "\\]\n",
        "\n",
        "Essa abordagem simplifica a análise de sistemas físicos que iniciam em \\( n=0 \\), como respostas a excitações impulsivas.\n",
        "\n",
        "---\n",
        "\n",
        "### Implementação em Python:"
      ],
      "metadata": {
        "id": "xEuGp5srcu9r"
      }
    },
    {
      "cell_type": "code",
      "source": [
        "import sympy as sp\n",
        "\n",
        "n, z = sp.symbols('n z')\n",
        "x_n = 2**n  # Exemplo de sequência discreta x(n) = 2^n\n",
        "\n",
        "# Cálculo da Transformada-Z\n",
        "X_z = sp.summation(x_n * z**(-n), (n, 0, sp.oo))\n",
        "X_z"
      ],
      "metadata": {
        "id": "P9vdYsMgc5nt"
      },
      "execution_count": null,
      "outputs": []
    },
    {
      "cell_type": "markdown",
      "source": [
        "### 2. Região de Convergência (ROC)\n",
        "\n",
        "A Região de Convergência (ROC) é um conceito essencial para determinar as propriedades da transformada-Z de um sistema.\n",
        "\n",
        "- A ROC é o conjunto de valores de \\( z \\) onde a série da transformada-Z converge.\n",
        "- Para que um sistema seja **estável**, a ROC deve conter o círculo unitário \\( |z| = 1 \\).\n",
        "- Para que um sistema seja **causal**, a ROC deve incluir a região fora do polo de maior módulo.\n",
        "\n",
        "---\n",
        "\n",
        "### Implementação em Python:"
      ],
      "metadata": {
        "id": "PqZDtx-ZdAcl"
      }
    },
    {
      "cell_type": "code",
      "source": [
        "import matplotlib.pyplot as plt\n",
        "import numpy as np\n",
        "\n",
        "r = np.linspace(0, 2, 100)\n",
        "theta = np.linspace(0, 2*np.pi, 100)\n",
        "R, Theta = np.meshgrid(r, theta)\n",
        "X = R * np.cos(Theta)\n",
        "Y = R * np.sin(Theta)\n",
        "\n",
        "plt.figure(figsize=(5,5))\n",
        "plt.contourf(X, Y, R, levels=10, cmap='coolwarm')\n",
        "plt.colorbar(label='Magnitude')\n",
        "plt.title('Região de Convergência')\n",
        "plt.xlabel('Re(z)')\n",
        "plt.ylabel('Im(z)')\n",
        "plt.show()"
      ],
      "metadata": {
        "id": "Sez5do4LdFP-"
      },
      "execution_count": null,
      "outputs": []
    },
    {
      "cell_type": "markdown",
      "source": [
        "## 3. Propriedades da Transformada-Z\n",
        "\n",
        "A transformada-Z apresenta várias propriedades importantes que facilitam a análise de sistemas discretos:\n",
        "\n",
        "- **Linearidade**: A soma ponderada de duas sequências no tempo corresponde à soma ponderada de suas respectivas transformadas-Z.\n",
        "- **Deslocamento no tempo**: Um atraso de \\( k \\) amostras no tempo equivale à multiplicação por \\( z^{-k} \\) no domínio-Z.\n",
        "- **Convolução**: A convolução de duas sequências no tempo corresponde à multiplicação de suas transformadas-Z.\n",
        "- **Derivação no domínio-Z**: A derivada da transformada-Z em relação a \\( z \\) está associada ao índice temporal da sequência original.\n",
        "\n",
        "Essas propriedades são fundamentais para simplificar cálculos e projetar\n",
        "sistemas no domínio da frequência.\n",
        "\n",
        "---\n",
        "\n",
        "### Implementação em Python:\n"
      ],
      "metadata": {
        "id": "eqV_BThNdJaC"
      }
    },
    {
      "cell_type": "code",
      "source": [
        "def z_transform_shift(X_z, k, z):\n",
        "    return z**(-k) * X_z\n",
        "\n",
        "X_z = sp.symbols('X_z')\n",
        "k = 2\n",
        "shifted_X_z = z_transform_shift(X_z, k, z)\n",
        "print(\"Transformada-z deslocada:\", shifted_X_z)"
      ],
      "metadata": {
        "id": "nSYDREa2dPew"
      },
      "execution_count": null,
      "outputs": []
    },
    {
      "cell_type": "markdown",
      "source": [
        "## 4. Inversa da Transformada-Z\n",
        "\n",
        "A inversa da transformada-Z permite recuperar a sequência original no domínio do tempo. Existem diversos métodos para realizar essa conversão:\n",
        "\n",
        "- **Expansão em frações parciais**: A função é decomposta em frações simples, facilitando a obtenção da sequência correspondente.\n",
        "- **Série de Laurent**: A função é expandida como uma série infinita, e os coeficientes da expansão determinam os valores da sequência no tempo.\n",
        "- **Teorema do resíduo**: Utiliza a teoria dos resíduos para calcular diretamente os coeficientes da sequência a partir dos polos da função de transferência.\n",
        "\n",
        "Cada método é utilizado dependendo do formato da função e do contexto da aplicação.\n",
        "\n",
        "---\n",
        "\n",
        "### Implementação em Python:\n"
      ],
      "metadata": {
        "id": "85HpiCJKdSMp"
      }
    },
    {
      "cell_type": "code",
      "source": [
        "def inverse_z_transform(X_z, z, n):\n",
        "    return sp.apart(X_z, z).rewrite(sp.Heaviside).simplify()\n",
        "\n",
        "X_z = 1 / (z - 0.5)\n",
        "x_n = inverse_z_transform(X_z, z, n)\n",
        "print(\"Transformada-z inversa:\", x_n)"
      ],
      "metadata": {
        "id": "y1ZjwRYCdVpI"
      },
      "execution_count": null,
      "outputs": []
    },
    {
      "cell_type": "markdown",
      "source": [
        "## 5. Representação de Sistemas no Domínio-Z\n",
        "\n",
        "A transformada-Z é frequentemente utilizada para representar sistemas dinâmicos através de sua **função de transferência**, definida como:\n",
        "\n",
        "\\[\n",
        "H(z) = \\frac{Y(z)}{X(z)}\n",
        "\\]\n",
        "\n",
        "Onde:\n",
        "- \\( X(z) \\) é a transformada-Z da entrada do sistema.\n",
        "- \\( Y(z) \\) é a transformada-Z da saída do sistema.\n",
        "- \\( H(z) \\) representa a relação entre a entrada e a saída no domínio-Z.\n",
        "\n",
        "Essa representação é fundamental para a análise de sistemas discretos, permitindo avaliar a resposta em frequência e a estabilidade do sistema.\n",
        "\n",
        "---\n",
        "\n",
        "### Implementação em Python:\n"
      ],
      "metadata": {
        "id": "3OPfbNjWdYWD"
      }
    },
    {
      "cell_type": "code",
      "source": [
        "b = [1, -0.5]\n",
        "a = [1, -1.2, 0.36]\n",
        "H_z = np.polyval(b, z) / np.polyval(a, z)\n",
        "print(\"Função de Transferência H(z):\", H_z)"
      ],
      "metadata": {
        "id": "Sv5e10qddb-Z"
      },
      "execution_count": null,
      "outputs": []
    },
    {
      "cell_type": "markdown",
      "source": [
        "## 6. Solução de Equações de Diferenças\n",
        "\n",
        "As **equações de diferenças** descrevem o comportamento de sistemas dinâmicos discretos. A transformada-Z é uma ferramenta essencial para resolvê-las, pois transforma equações diferenciais em expressões algébricas mais simples.\n",
        "\n",
        "### Passos para resolver equações de diferenças:\n",
        "1. **Aplicar a transformada-Z** em ambos os lados da equação.\n",
        "2. **Manipular a equação** no domínio-Z para isolarmos a saída do sistema.\n",
        "3. **Aplicar a inversa da transformada-Z** para obter a solução no domínio do tempo.\n",
        "\n",
        "---\n",
        "\n",
        "### Implementação em Python:\n"
      ],
      "metadata": {
        "id": "k0L-Tu8pde6n"
      }
    },
    {
      "cell_type": "code",
      "source": [
        "y_n = sp.symbols('y_n')\n",
        "H_z = 1 / (1 - 0.5*z**-1)\n",
        "y_n = inverse_z_transform(H_z, z, n)\n",
        "print(\"Solução da equação de diferenças:\", y_n)"
      ],
      "metadata": {
        "id": "ganthH8GdiRc"
      },
      "execution_count": null,
      "outputs": []
    },
    {
      "cell_type": "markdown",
      "source": [
        "## Conclusão\n",
        "A transformada-z é uma ferramenta essencial para análise e projeto de sistemas discretos. Suas propriedades simplificam a análise de estabilidade e resposta em frequência, sendo amplamente utilizada no processamento digital de sinais e controle digital.\n",
        "\n"
      ],
      "metadata": {
        "id": "wRs3B2ebasIe"
      }
    }
  ]
}