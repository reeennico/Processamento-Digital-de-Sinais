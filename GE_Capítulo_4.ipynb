{
  "nbformat": 4,
  "nbformat_minor": 0,
  "metadata": {
    "colab": {
      "provenance": []
    },
    "kernelspec": {
      "name": "python3",
      "display_name": "Python 3"
    },
    "language_info": {
      "name": "python"
    }
  },
  "cells": [
    {
      "cell_type": "markdown",
      "source": [
        "# Capítulo 4: A Transformada-Z\n",
        "\n",
        "## Introdução\n",
        "A Transformada-Z é uma técnica essencial para estudar e projetar sistemas discretos. Ela permite converter sinais e sistemas para o domínio da frequência complexa, facilitando a solução de equações diferenciais e a verificação da estabilidade dos sistemas.\n",
        "\n",
        "Essa ferramenta é especialmente vantajosa em sistemas de tempo discreto, pois oferece uma maneira algébrica de lidar com operações no tempo. Por exemplo, em vez de calcular convoluções diretamente no domínio temporal, podemos transformar o problema em um simples produto no domínio-Z. Esse conceito tem ampla aplicação no processamento digital de sinais (DSP), controle digital e telecomunicações."
      ],
      "metadata": {}
    },
    {
      "cell_type": "markdown",
      "source": [
        "## 1. Definição da Transformada-Z\n",
        "A Transformada-Z pode ser vista como uma extensão da Transformada de Fourier de Tempo Discreto (DTFT), sendo uma generalização para números complexos. Sua fórmula geral é dada por:\n",
        "\n",
        "$$\n",
        "X(z) = \sum_{n=-\infty}^{\infty} x(n)z^{-n}\n",
        "$$\n",
        "\n",
        "Aqui, $z$ é um número complexo expresso na forma polar:\n",
        "\n",
        "$$\n",
        "z = Re^{j\theta}\n",
        "$$\n",
        "\n",
        "Quando lidamos com sistemas causais, a versão unilateral da Transformada-Z é utilizada, somando apenas para $n \geq 0$:\n",
        "\n",
        "$$\n",
        "X(z) = \sum_{n=0}^{\infty} x(n)z^{-n}\n",
        "$$\n",
        "\n",
        "Isso simplifica a análise de sistemas físicos que têm resposta iniciando em $n = 0$, como os que reagem a um impulso."
      ],
      "metadata": {}
    },
    {
      "cell_type": "code",
      "source": [
        "import sympy as sp\n",
        "\n",
        "n, z = sp.symbols('n z')\n",
        "x_n = 2**n  # Exemplo de sequência x(n) = 2^n\n",
        "\n",
        "# Cálculo da Transformada-Z\n",
        "X_z = sp.summation(x_n * z**(-n), (n, 0, sp.oo))\n",
        "X_z"
      ],
      "metadata": {},
      "execution_count": null,
      "outputs": []
    },
    {
      "cell_type": "markdown",
      "source": [
        "## 2. Região de Convergência (ROC)\n",
        "A Região de Convergência (ROC) é fundamental para determinar propriedades como estabilidade e causalidade de um sistema.\n",
        "\n",
        "- A ROC é o conjunto de valores de $z$ onde a série da Transformada-Z converge.\n",
        "- Para que um sistema seja **estável**, sua ROC deve conter o círculo unitário $|z| = 1$.\n",
        "- Para um sistema **causal**, a ROC precisa incluir a parte externa ao polo de maior magnitude.\n",
        "\n",
        "Podemos visualizar a ROC utilizando gráficos em Python."
      ],
      "metadata": {}
    },
    {
      "cell_type": "code",
      "source": [
        "import numpy as np\n",
        "import matplotlib.pyplot as plt\n",
        "\n",
        "r = np.linspace(0, 2, 100)\n",
        "theta = np.linspace(0, 2*np.pi, 100)\n",
        "R, Theta = np.meshgrid(r, theta)\n",
        "X = R * np.cos(Theta)\n",
        "Y = R * np.sin(Theta)\n",
        "\n",
        "plt.figure(figsize=(5,5))\n",
        "plt.contourf(X, Y, R, levels=10, cmap='coolwarm')\n",
        "plt.colorbar(label='Magnitude')\n",
        "plt.title('Região de Convergência')\n",
        "plt.xlabel('Re(z)')\n",
        "plt.ylabel('Im(z)')\n",
        "plt.show()"
      ],
      "metadata": {},
      "execution_count": null,
      "outputs": []
    },
    {
      "cell_type": "markdown",
      "source": [
        "## Conclusão\n",
        "A Transformada-Z é uma ferramenta essencial na análise de sistemas discretos, permitindo representar sinais no domínio da frequência complexa.\n",
        "\n",
        "Com ela, podemos simplificar cálculos complexos, determinar a estabilidade de sistemas e resolver equações diferenciais de maneira eficiente. Sua aplicação se estende ao processamento digital de sinais, controle de sistemas e outras áreas da engenharia."
      ],
      "metadata": {}
    }
  ]
}
