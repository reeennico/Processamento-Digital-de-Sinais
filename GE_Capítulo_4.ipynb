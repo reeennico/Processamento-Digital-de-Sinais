{
  "nbformat": 4,
  "nbformat_minor": 0,
  "metadata": {
    "colab": {
      "provenance": [],
      "include_colab_link": true
    },
    "kernelspec": {
      "name": "python3",
      "display_name": "Python 3"
    },
    "language_info": {
      "name": "python"
    }
  },
  "cells": [
    {
      "cell_type": "markdown",
      "metadata": {
        "id": "view-in-github",
        "colab_type": "text"
      },
      "source": [
        "<a href=\"https://colab.research.google.com/github/reeennico/Processamento-Digital-de-Sinais/blob/main/GE_Cap%C3%ADtulo_4.ipynb\" target=\"_parent\"><img src=\"https://colab.research.google.com/assets/colab-badge.svg\" alt=\"Open In Colab\"/></a>"
      ]
    },
    {
      "cell_type": "markdown",
      "source": [
        "# Capítulo 4: A Transformada-z\n",
        "\n",
        "## Resumo\n",
        "A transformada-z é uma ferramenta fundamental na análise e projeto de sistemas discretos. Ela permite representar sinais e sistemas no domínio da frequência complexa, facilitando a resolução de equações de diferenças e a análise de estabilidade dos sistemas discretos.\n",
        "\n",
        "A transformada-z é especialmente útil em sistemas de tempo discreto pois fornece uma representação algébrica de operações no domínio do tempo. Ao invés de trabalhar diretamente com convolução no tempo, por exemplo, é possível transformar o problema em uma simples multiplicação no domínio-z. Esse conceito é essencial no processamento digital de sinais (DSP), controle digital e comunicações.\n",
        "\n",
        "## 1. Definição da Transformada-z\n",
        "A transformada-z é uma extensão da transformada de Fourier de tempo discreto (DTFT) e pode ser vista como sua generalização para números complexos. Ela é definida por:\n",
        "$\n",
        "X(z) = \\sum_{n=-\\infty}^{\\infty} x(n)z^{-n}\n",
        "$\n",
        "\n",
        "Aqui, $( z $) é um número complexo representado na forma polar como:\n",
        "$\n",
        "z = Re^{j\\theta}\n",
        "$\n",
        "A versão unilateral da transformada-z é usada para sistemas causais, onde a soma é realizada apenas para $( n /geq 0 $):\n",
        "$\n",
        "X(z) = \\sum_{n=0}^{\\infty} x(n)z^{-n}\n",
        "$\n",
        "Essa abordagem simplifica a análise de sistemas físicos que iniciam em $( n = 0 $), como respostas a excitações impulsivas.\n",
        "\n",
        "### Código Python:"
      ],
      "metadata": {
        "id": "xEuGp5srcu9r"
      }
    },
    {
      "cell_type": "code",
      "source": [
        "import numpy as np\n",
        "import sympy as sp\n",
        "\n",
        "n, z = sp.symbols('n z')\n",
        "x_n = sp.Function('x')(n)\n",
        "X_z = sp.summation(x_n * z**-n, (n, 0, sp.oo))\n",
        "print(\"Transformada-z:\", X_z)"
      ],
      "metadata": {
        "colab": {
          "base_uri": "https://localhost:8080/"
        },
        "id": "P9vdYsMgc5nt",
        "outputId": "b3702e3a-3f88-4aa4-b680-d88ca108b461"
      },
      "execution_count": null,
    },
    {
      "cell_type": "markdown",
      "source": [
        "## 2. Região de Convergência (ROC)\n",
        "A região de convergência (ROC) é um fator crítico para determinar a estabilidade e a causalidade de um sistema.\n",
        "\n",
        "- A ROC é o conjunto de valores de \\( z \\) para os quais a soma da transformada-z converge.\n",
        "- A estabilidade de um sistema depende de sua ROC incluir o círculo unitário \\( |z| = 1 \\).\n",
        "- A causalidade de um sistema requer que a ROC inclua a região externa do polo de maior magnitude.\n",
        "\n",
        "### Código Python:"
      ],
      "metadata": {
        "id": "PqZDtx-ZdAcl"
      }
    },
    {
      "cell_type": "code",
      "source": [
        "import matplotlib.pyplot as plt\n",
        "\n",
        "r = np.linspace(0, 2, 100)\n",
        "theta = np.linspace(0, 2*np.pi, 100)\n",
        "R, Theta = np.meshgrid(r, theta)\n",
        "X = R * np.cos(Theta)\n",
        "Y = R * np.sin(Theta)\n",
        "\n",
        "plt.figure(figsize=(5,5))\n",
        "plt.contourf(X, Y, R, levels=10, cmap='coolwarm')\n",
        "plt.colorbar(label='Magnitude')\n",
        "plt.title('Região de Convergência')\n",
        "plt.xlabel('Re(z)')\n",
        "plt.ylabel('Im(z)')\n",
        "plt.show()"
      ],
      "metadata": {
        "colab": {
          "base_uri": "https://localhost:8080/",
          "height": 488
        },
        "id": "Sez5do4LdFP-",
        "outputId": "719b0c1f-8a3b-4ac3-d210-2ea09afef187"
      },
      "execution_count": null,
    },
    {
      "cell_type": "markdown",
      "source": [
        "## 3. Propriedades da Transformada-z\n",
        "A transformada-z possui diversas propriedades úteis que simplificam a análise de sistemas:\n",
        "- **Linearidade**: Permite que a soma ponderada de duas sequências no domínio do tempo seja equivalente à soma ponderada de suas transformadas-z no domínio da frequência complexa.\n",
        "- **Deslocamento no tempo**: Um deslocamento de \\( k \\) amostras no tempo equivale à multiplicação por \\( z^{-k} \\) no domínio-z.\n",
        "- **Convolução**: A convolução de duas sequências no tempo resulta na multiplicação de suas transformadas-z.\n",
        "- **Derivação no domínio-z**: A derivada da transformada-z em relação a \\( z \\) está relacionada ao produto do índice temporal pela sequência original.\n",
        "\n",
        "Essas propriedades tornam a transformada-z uma ferramenta poderosa para análise de sistemas discretos.\n",
        "\n",
        "### Código Python:"
      ],
      "metadata": {
        "id": "eqV_BThNdJaC"
      }
    },
    {
      "cell_type": "code",
      "source": [
        "def z_transform_shift(X_z, k, z):\n",
        "    return z**(-k) * X_z\n",
        "\n",
        "X_z = sp.symbols('X_z')\n",
        "k = 2\n",
        "shifted_X_z = z_transform_shift(X_z, k, z)\n",
        "print(\"Transformada-z deslocada:\", shifted_X_z)"
      ],
      "metadata": {
        "colab": {
          "base_uri": "https://localhost:8080/"
        },
        "id": "nSYDREa2dPew",
        "outputId": "5c36e05e-b1c2-4f41-c358-91d4b444e259"
      },
      "execution_count": null,
    },
    {
      "cell_type": "markdown",
      "source": [
        "## 4. Inversa da Transformada-z\n",
        "A inversa da transformada-z é usada para recuperar a sequência original no tempo discreto. Os métodos comuns para calcular essa inversa incluem:\n",
        "1. **Expansão em frações parciais**: Decomposição da função em frações simples para obter a resposta no domínio do tempo.\n",
        "2. **Série de Laurent**: Expansão da função em uma série infinita para recuperar os coeficientes temporais.\n",
        "3. **Teorema do resíduo**: Aplicação da teoria dos resíduos para encontrar a sequência no tempo a partir dos polos da função de transferência.\n",
        "\n",
        "### Código Python:"
      ],
      "metadata": {
        "id": "85HpiCJKdSMp"
      }
    },
    {
      "cell_type": "code",
      "source": [
        "def inverse_z_transform(X_z, z, n):\n",
        "    return sp.apart(X_z, z).rewrite(sp.Heaviside).simplify()\n",
        "\n",
        "X_z = 1 / (z - 0.5)\n",
        "x_n = inverse_z_transform(X_z, z, n)\n",
        "print(\"Transformada-z inversa:\", x_n)"
      ],
      "metadata": {
        "colab": {
          "base_uri": "https://localhost:8080/"
        },
        "id": "y1ZjwRYCdVpI",
        "outputId": "cc64f6b1-f5a3-4f11-a571-20c92ff40374"
      },
      "execution_count": null,
    },
    {
      "cell_type": "markdown",
      "source": [
        "## 5. Representação de Sistemas no Domínio-z\n",
        "A função de transferência \\( H(z) \\) é usada para representar sistemas no domínio-z e é definida como:\n",
        "\\[\n",
        "H(z) = \\frac{Y(z)}{X(z)}\n",
        "\\]\n",
        "Essa equação permite determinar a resposta em frequência do sistema e analisar sua estabilidade.\n",
        "\n",
        "### Código Python:"
      ],
      "metadata": {
        "id": "3OPfbNjWdYWD"
      }
    },
    {
      "cell_type": "code",
      "source": [
        "b = [1, -0.5]\n",
        "a = [1, -1.2, 0.36]\n",
        "H_z = np.polyval(b, z) / np.polyval(a, z)\n",
        "print(\"Função de Transferência H(z):\", H_z)"
      ],
      "metadata": {
        "colab": {
          "base_uri": "https://localhost:8080/"
        },
        "id": "Sv5e10qddb-Z",
        "outputId": "c2157738-4ad1-40bc-9c9c-bfbe628d538f"
      },
      "execution_count": null,
    },
    {
      "cell_type": "markdown",
      "source": [
        "## 6. Solução de Equações de Diferenças\n",
        "As equações de diferenças descrevem sistemas dinâmicos discretos e podem ser resolvidas aplicando a transformada-z e sua inversa.\n",
        "\n",
        "1. Aplicamos a transformada-z nos dois lados da equação diferencial.\n",
        "2. Manipulamos a equação no domínio-z para expressá-la na forma de uma função de transferência.\n",
        "3. Aplicamos a inversa da transformada-z para obter a resposta no tempo.\n",
        "\n",
        "### Código Python:"
      ],
      "metadata": {
        "id": "k0L-Tu8pde6n"
      }
    },
    {
      "cell_type": "code",
      "source": [
        "y_n = sp.symbols('y_n')\n",
        "H_z = 1 / (1 - 0.5*z**-1)\n",
        "y_n = inverse_z_transform(H_z, z, n)\n",
        "print(\"Solução da equação de diferenças:\", y_n)"
      ],
      "metadata": {
        "colab": {
          "base_uri": "https://localhost:8080/"
        },
        "id": "ganthH8GdiRc",
        "outputId": "b8a896fc-b543-4d51-92a3-706437a15ff0"
      },
      "execution_count": null,
    },
    {
      "cell_type": "markdown",
      "source": [
        "## Conclusão\n",
        "A transformada-z é uma ferramenta essencial para análise e projeto de sistemas discretos. Suas propriedades simplificam a análise de estabilidade e resposta em frequência, sendo amplamente utilizada no processamento digital de sinais e controle digital.\n",
        "\n"
      ],
      "metadata": {
        "id": "wRs3B2ebasIe"
      }
    }
  ]
}
